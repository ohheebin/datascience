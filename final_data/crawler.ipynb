{
 "cells": [
  {
   "cell_type": "code",
   "execution_count": 1,
   "metadata": {},
   "outputs": [
    {
     "name": "stdout",
     "output_type": "stream",
     "text": [
      "python3 crawler.py [gallery_name] [page_numer] [output_file_name]\n"
     ]
    },
    {
     "ename": "SystemExit",
     "evalue": "",
     "output_type": "error",
     "traceback": [
      "An exception has occurred, use %tb to see the full traceback.\n",
      "\u001b[0;31mSystemExit\u001b[0m\n"
     ]
    },
    {
     "name": "stderr",
     "output_type": "stream",
     "text": [
      "/Library/Frameworks/Python.framework/Versions/3.6/lib/python3.6/site-packages/IPython/core/interactiveshell.py:2889: UserWarning: To exit: use 'exit', 'quit', or Ctrl-D.\n",
      "  warn(\"To exit: use 'exit', 'quit', or Ctrl-D.\", stacklevel=1)\n"
     ]
    }
   ],
   "source": [
    "from bs4 import BeautifulSoup\n",
    "import urllib.request\n",
    "import time\n",
    "import random\n",
    "import sys\n",
    "\n",
    "class DC_Crawler:\n",
    "    def __init__(self, gallery, pagenum):\n",
    "        self.list_url = 'http://gall.dcinside.com/board/lists/?id=' + gallery\n",
    "        self.view_url = 'http://gall.dcinside.com/board/view/?id=' + gallery\n",
    "        self.pagenum = int(pagenum)\n",
    "        self.text = ''\n",
    "        \n",
    "    def crawl(self):\n",
    "        page = 1\n",
    "        \n",
    "        while page <= self.pagenum:\n",
    "            url_open = urllib.request.urlopen(self.list_url + '&page=' + str(page))\n",
    "            soup = BeautifulSoup(url_open, 'html.parser', from_encoding='utf-8')\n",
    "\n",
    "            notice_list = soup.findAll('td', {'class':'t_notice'})\n",
    "            subject_list = soup.findAll('td', {'class':'t_subject'})\n",
    "\n",
    "            # Exclude notice post\n",
    "            for _ in notice_list:\n",
    "                if notice_list[0].text == '공지':\n",
    "                    notice_list.pop(0)\n",
    "                    subject_list.pop(0)\n",
    "                else:\n",
    "                    break\n",
    "\n",
    "            print('Start crawling %d page subject..\\n\\n' %(page))\n",
    "\n",
    "            for subject in subject_list:\n",
    "                print(subject.text)\n",
    "                self.text += subject.text + '\\n'\n",
    "\n",
    "            rand_num = random.randrange(1,5)\n",
    "            print('\\nCrawling %d page subject complete. %d sec sleep...\\n' %(page, rand_num))\n",
    "            time.sleep(rand_num)\n",
    "\n",
    "            print('Start crawling %d page content..\\n\\n' %(page))\n",
    "            \n",
    "            for notice in notice_list:\n",
    "                url_open = urllib.request.urlopen(self.view_url + '&no=' + str(notice.text) + '&page=' + str(page))\n",
    "                soup = BeautifulSoup(url_open, 'html.parser', from_encoding='utf-8')\n",
    "                content = soup.find('div', {'class':'s_write'})\n",
    "                text_content = content.table.tr.td.text\n",
    "\n",
    "                print(text_content)\n",
    "                self.text += text_content + '\\n'\n",
    "\n",
    "                rand_number = random.randrange(1,4)\n",
    "                print('Sleep intentionally %d sec..' %(rand_number))\n",
    "                time.sleep(rand_num)\n",
    "\n",
    "            print('\\nCrawling %d page content complete.\\n' %(page))\n",
    "\n",
    "            page += 1\n",
    "        \n",
    "        return self.text\n",
    "    \n",
    "if __name__ == '__main__':\n",
    "    if len(sys.argv) != 4:\n",
    "        print('python3 crawler.py [gallery_name] [page_numer] [output_file_name]')\n",
    "        sys.exit()\n",
    "\n",
    "    text = DC_Crawler(gallery=sys.argv[1], pagenum=sys.argv[2]).crawl()\n",
    "    f = open(sys.argv[3], \"w\")\n",
    "    f.write(text)\n",
    "    f.close()\n",
    "\n"
   ]
  }
 ],
 "metadata": {
  "kernelspec": {
   "display_name": "Python 3",
   "language": "python",
   "name": "python3"
  },
  "language_info": {
   "codemirror_mode": {
    "name": "ipython",
    "version": 3
   },
   "file_extension": ".py",
   "mimetype": "text/x-python",
   "name": "python",
   "nbconvert_exporter": "python",
   "pygments_lexer": "ipython3",
   "version": "3.6.1"
  }
 },
 "nbformat": 4,
 "nbformat_minor": 2
}
