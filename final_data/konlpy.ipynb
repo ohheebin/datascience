{
 "cells": [
  {
   "cell_type": "code",
   "execution_count": 1,
   "metadata": {
    "collapsed": true
   },
   "outputs": [],
   "source": [
    "#cleand_data를 통해 하나의 text파일로 합치기\n",
    " \n",
    "import sys\n",
    "from konlpy.tag import Twitter\n",
    "from collections import Counter\n",
    "from konlpy.tag import Kkma\n",
    "import os"
   ]
  },
  {
   "cell_type": "code",
   "execution_count": 2,
   "metadata": {
    "collapsed": true
   },
   "outputs": [],
   "source": [
    "#main function\n",
    "def main():\n",
    "    num = 0\n",
    "    #spliter = Twitter()\n",
    "    spliter = Twitter()\n",
    "    #입력 파일명 = file\n",
    "    file = 'output.txt'\n",
    "    output_file_name = 'nominalization.txt'\n",
    "    open_text_file = open(file, 'r')\n",
    "    text = open_text_file.read()\n",
    "    open_text_file.close()\n",
    "    open_output_file = open(output_file_name, 'a+')\n",
    "    nouns = spliter.nouns(text)\n",
    "    for n in nouns:\n",
    "        open_output_file.write(' ' + n)\n",
    "    open_output_file.close()"
   ]
  },
  {
   "cell_type": "code",
   "execution_count": 3,
   "metadata": {
    "collapsed": true
   },
   "outputs": [],
   "source": [
    "if __name__ == '__main__':\n",
    "    main()"
   ]
  }
 ],
 "metadata": {
  "kernelspec": {
   "display_name": "Python 3",
   "language": "python",
   "name": "python3"
  },
  "language_info": {
   "codemirror_mode": {
    "name": "ipython",
    "version": 3
   },
   "file_extension": ".py",
   "mimetype": "text/x-python",
   "name": "python",
   "nbconvert_exporter": "python",
   "pygments_lexer": "ipython3",
   "version": "3.6.1"
  }
 },
 "nbformat": 4,
 "nbformat_minor": 2
}
