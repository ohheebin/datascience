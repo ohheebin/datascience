{
 "cells": [
  {
   "cell_type": "code",
   "execution_count": 3,
   "metadata": {
    "collapsed": true
   },
   "outputs": [],
   "source": [
    "#파이썬 fitbit 데이터 csv파일로 가공\n",
    "import fitbit\n",
    "import json\n",
    "import configparser\n",
    "import matplotlib\n",
    "from matplotlib import pyplot as plt\n",
    "import numpy as np\n",
    "import pandas as pd\n",
    "import datetime\n",
    "import csv"
   ]
  },
  {
   "cell_type": "code",
   "execution_count": 36,
   "metadata": {},
   "outputs": [
    {
     "name": "stdout",
     "output_type": "stream",
     "text": [
      "{'sleep': [], 'summary': {'totalMinutesAsleep': 0, 'totalSleepRecords': 0, 'totalTimeInBed': 0}}\n"
     ]
    }
   ],
   "source": [
    "config = configparser.RawConfigParser()\n",
    "config.read('config.ini')\n",
    "\n",
    "CLIENT_ID = config.get('ACCOUNT', 'CLIENT_ID')\n",
    "CLIENT_SECRET = config.get('ACCOUNT', 'CLIENT_SECRET')\n",
    "ACCESS_TOKEN = config.get('ACCOUNT', 'ACCESS_TOKEN')\n",
    "REFRESH_TOKEN = config.get('ACCOUNT', 'REFRESH_TOKEN')\n",
    "\n",
    "authd_client = fitbit.Fitbit(CLIENT_ID, CLIENT_SECRET, access_token = ACCESS_TOKEN, refresh_token = REFRESH_TOKEN)\n",
    "dates = pd.date_range('2017-03-26', '2017-04-26')\n",
    "#step뽑아내기\n",
    "#intraday_steps = authd_client.time_series('activities/steps', base_date='2017-03-26', end_date='2017-04-26')\n",
    "#sleep데이터 뽑아내기\n",
    "for date in dates:\n",
    "    intraday_sleep = authd_client.get_sleep(date)\n",
    "#print(intraday_steps)\n",
    "print(intraday_sleep)\n",
    "\n",
    "#f = open('sleep.json', 'w')\n",
    "#json.dump(intraday_steps, f)\n",
    "#json.dump(intraday_sleep, f)"
   ]
  },
  {
   "cell_type": "code",
   "execution_count": 41,
   "metadata": {},
   "outputs": [],
   "source": [
    "#sleep데이터\n",
    "with open('sleep.csv','w',newline='\\n') as csvfile:\n",
    "    fieldnames = ['date','sleep']\n",
    "    writer = csv.DictWriter(csvfile,fieldnames=fieldnames)\n",
    "    writer.writeheader()\n",
    "    x=0\n",
    "    for date in dates:\n",
    "        intraday_sleep = authd_client.get_sleep(date)\n",
    "        try:\n",
    "            writer.writerow({'date' : date,\n",
    "                             'sleep' : intraday_sleep['summary'][x]['totalMinutesAsleep']})\n",
    "        except:\n",
    "            pass\n",
    "        x = x + 1\n",
    "\n"
   ]
  },
  {
   "cell_type": "code",
   "execution_count": 26,
   "metadata": {},
   "outputs": [],
   "source": [
    "#한달 step 데이터 csv 파일로 저장하기\n",
    "with open('step.csv','w',newline='\\n') as csvfile:\n",
    "    fieldnames = ['date','total_steps']\n",
    "    writer = csv.DictWriter(csvfile,fieldnames=fieldnames)\n",
    "    writer.writeheader()\n",
    "    for x in range(0,32):\n",
    "        writer.writerow({'date' : str(intraday_steps['activities-steps'][x]['dateTime']), 'total_steps' : intraday_steps['activities-steps'][x]['value']})\n"
   ]
  },
  {
   "cell_type": "code",
   "execution_count": 27,
   "metadata": {},
   "outputs": [],
   "source": [
    "#15분 간격으로 가져오기\n",
    "config = configparser.RawConfigParser()\n",
    "config.read('config.ini')\n",
    "\n",
    "CLIENT_ID = config.get('ACCOUNT', 'CLIENT_ID')\n",
    "CLIENT_SECRET = config.get('ACCOUNT', 'CLIENT_SECRET')\n",
    "ACCESS_TOKEN = config.get('ACCOUNT', 'ACCESS_TOKEN')\n",
    "REFRESH_TOKEN = config.get('ACCOUNT', 'REFRESH_TOKEN')\n",
    "\n",
    "authd_client = fitbit.Fitbit(CLIENT_ID, CLIENT_SECRET, access_token = ACCESS_TOKEN, refresh_token = REFRESH_TOKEN)\n",
    "\n",
    "dates = pd.date_range('2017-03-26', '2017-04-01')\n"
   ]
  },
  {
   "cell_type": "code",
   "execution_count": 37,
   "metadata": {},
   "outputs": [
    {
     "data": {
      "text/plain": [
       "{'activities-steps': [{'dateTime': '2017-04-27', 'value': '576'}],\n",
       " 'activities-steps-intraday': {'dataset': [{'time': '00:00:00', 'value': 498},\n",
       "   {'time': '00:15:00', 'value': 0},\n",
       "   {'time': '00:30:00', 'value': 0},\n",
       "   {'time': '00:45:00', 'value': 0},\n",
       "   {'time': '01:00:00', 'value': 0},\n",
       "   {'time': '01:15:00', 'value': 0},\n",
       "   {'time': '01:30:00', 'value': 0},\n",
       "   {'time': '01:45:00', 'value': 71},\n",
       "   {'time': '02:00:00', 'value': 7},\n",
       "   {'time': '02:15:00', 'value': 0}],\n",
       "  'datasetInterval': 15,\n",
       "  'datasetType': 'minute'}}"
      ]
     },
     "execution_count": 37,
     "metadata": {},
     "output_type": "execute_result"
    }
   ],
   "source": [
    "intraday_step = authd_client.intraday_time_series('activities/steps', base_date='2017-04-27', detail_level='15min')\n",
    "x=str(intraday_step['activities-steps'][0]['dateTime'])+\" \"+str(intraday_step['activities-steps-intraday']['dataset'][0]['time'])\n",
    "intraday_step"
   ]
  },
  {
   "cell_type": "code",
   "execution_count": 28,
   "metadata": {},
   "outputs": [],
   "source": [
    "with open('step_15mins.csv','w',newline='\\n') as csvfile:\n",
    "    fieldnames = ['date','steps']\n",
    "    writer = csv.DictWriter(csvfile,fieldnames=fieldnames)\n",
    "    writer.writeheader()\n",
    "    for date in dates:\n",
    "        intraday_step = authd_client.intraday_time_series('activities/steps', base_date=date, detail_level='15min')\n",
    "        x=0\n",
    "        for i in range(len(intraday_step['activities-steps-intraday']['dataset'])):\n",
    "            writer.writerow({'date' : str(intraday_step['activities-steps'][0]['dateTime'])+\" \"+str(intraday_step['activities-steps-intraday']['dataset'][x]['time']),\n",
    "                             'steps' : intraday_step['activities-steps-intraday']['dataset'][x]['value']})\n",
    "            x = x + 1\n"
   ]
  }
 ],
 "metadata": {
  "kernelspec": {
   "display_name": "Python 3",
   "language": "python",
   "name": "python3"
  },
  "language_info": {
   "codemirror_mode": {
    "name": "ipython",
    "version": 3
   },
   "file_extension": ".py",
   "mimetype": "text/x-python",
   "name": "python",
   "nbconvert_exporter": "python",
   "pygments_lexer": "ipython3",
   "version": "3.6.1"
  }
 },
 "nbformat": 4,
 "nbformat_minor": 2
}
