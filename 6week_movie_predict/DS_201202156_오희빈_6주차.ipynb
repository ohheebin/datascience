{
 "cells": [
  {
   "cell_type": "code",
   "execution_count": 2,
   "metadata": {
    "collapsed": true
   },
   "outputs": [],
   "source": [
    "import pandas as pd\n",
    "import numpy as np\n",
    "from matplotlib import rcParams\n",
    "import seaborn as sns\n",
    "import matplotlib.pyplot as plt\n",
    "from datetime import datetime\n",
    "import matplotlib\n",
    "import matplotlib.patches as matches\n",
    "#rating.csv\n",
    "ratings = pd.read_csv(\"ratings.csv\");\n"
   ]
  },
  {
   "cell_type": "code",
   "execution_count": 3,
   "metadata": {
    "collapsed": true
   },
   "outputs": [],
   "source": [
    "#10명의 data를 저장한 csv파일 \n",
    "test = pd.read_csv(\"test.csv\");"
   ]
  },
  {
   "cell_type": "code",
   "execution_count": 3,
   "metadata": {},
   "outputs": [
    {
     "name": "stdout",
     "output_type": "stream",
     "text": [
      "   userId  movieId  rating   timestamp\n",
      "0       1        2     3.5  1112486027\n",
      "1       1       29     3.5  1112484676\n",
      "2       1       32     3.5  1112484819\n",
      "3       1       47     3.5  1112484727\n",
      "4       1       50     3.5  1112484580\n"
     ]
    }
   ],
   "source": [
    "print(ratings.head());"
   ]
  },
  {
   "cell_type": "code",
   "execution_count": 4,
   "metadata": {},
   "outputs": [
    {
     "name": "stdout",
     "output_type": "stream",
     "text": [
      "   userId  movieId  rating   timestamp\n",
      "0      11      500     4.5  1230858949\n",
      "1      18     4428     3.5  1262461295\n",
      "2      24     4308     2.0  1015727461\n",
      "3      35       60     4.0  1164498353\n",
      "4      50      924     5.0  1182349293\n",
      "5      54     3194     4.0   975440547\n",
      "6      58    32587     4.5  1144061539\n",
      "7      70     2890     3.0  1020294249\n",
      "8      83      296     5.0  1112724196\n",
      "9      91     2863     4.5  1111558557\n"
     ]
    }
   ],
   "source": [
    "print(test)"
   ]
  },
  {
   "cell_type": "code",
   "execution_count": 5,
   "metadata": {
    "collapsed": true
   },
   "outputs": [],
   "source": [
    "#UserId와 movieId를 행과 열로 rating을 저장하는 matrix\n",
    "UM_matrix_ds = ratings.pivot(index = 'userId', columns='movieId', values='rating');"
   ]
  },
  {
   "cell_type": "code",
   "execution_count": 6,
   "metadata": {
    "collapsed": true
   },
   "outputs": [],
   "source": [
    "import math\n",
    "import time\n",
    "from operator import itemgetter\n",
    "from scipy.spatial import distance\n",
    "#euclidean함수 값이 클수록 자신과의 거리가 먼것이기 떄문에 +1을 해주고 역수를 취해준다. 그러면 0~1사이의 값으로 1에 가까울 수록 가까운 거리\n",
    "def distance_euclidean(a,b):\n",
    "    return 1/(distance.euclidean(a,b)+1)"
   ]
  },
  {
   "cell_type": "code",
   "execution_count": 13,
   "metadata": {
    "collapsed": true
   },
   "outputs": [],
   "source": [
    "#가까운 이웃 구하는 알고리즘\n",
    "def nearest_neighbor_user( user, topN, simFunc ) :  \n",
    "    u1 = UM_matrix_ds.loc[user].dropna()\n",
    "    ratedIndex = u1.index\n",
    "    nearest_neighbor = {}\n",
    "    \n",
    "    for uid, row in UM_matrix_ds.iterrows():\n",
    "        interSectionU1 = []\n",
    "        interSectionU2 = []\n",
    "        if uid==user:\n",
    "            continue\n",
    "            \n",
    "        for i in ratedIndex:\n",
    "            if False==math.isnan(row[i]):\n",
    "                interSectionU1.append(u1[i])\n",
    "                interSectionU2.append(row[i])\n",
    "        \n",
    "        if len(interSectionU1) < 3 :\n",
    "            continue\n",
    "            \n",
    "        sim = simFunc(interSectionU1,interSectionU2)\n",
    "        \n",
    "        if  math.isnan(sim) == False:\n",
    "            nearest_neighbor[uid] = sim\n",
    "\n",
    "    return sorted(nearest_neighbor.items(),key=itemgetter(1))[:-(topN+1):-1]"
   ]
  },
  {
   "cell_type": "code",
   "execution_count": 15,
   "metadata": {},
   "outputs": [
    {
     "name": "stdout",
     "output_type": "stream",
     "text": [
      "11.0 번 user의 가까운 이웃 Top3 :  [(137978, 1.0), (123183, 1.0), (113398, 1.0)]\n",
      "18.0 번 user의 가까운 이웃 Top3 :  [(137735, 1.0), (137587, 1.0), (137546, 1.0)]\n",
      "24.0 번 user의 가까운 이웃 Top3 :  [(137688, 1.0), (129691, 1.0), (123539, 1.0)]\n",
      "35.0 번 user의 가까운 이웃 Top3 :  [(136994, 1.0), (136868, 1.0), (135301, 1.0)]\n",
      "50.0 번 user의 가까운 이웃 Top3 :  [(138287, 1.0), (137787, 1.0), (137160, 1.0)]\n",
      "54.0 번 user의 가까운 이웃 Top3 :  [(138298, 1.0), (120616, 1.0), (109080, 1.0)]\n",
      "58.0 번 user의 가까운 이웃 Top3 :  [(133985, 1.0), (130105, 1.0), (120041, 1.0)]\n",
      "70.0 번 user의 가까운 이웃 Top3 :  [(137952, 1.0), (137157, 1.0), (136369, 1.0)]\n",
      "83.0 번 user의 가까운 이웃 Top3 :  [(137960, 1.0), (137456, 1.0), (137416, 1.0)]\n",
      "91.0 번 user의 가까운 이웃 Top3 :  [(74537, 1.0), (71894, 1.0), (59007, 1.0)]\n",
      "6275.691304922104 sec\n"
     ]
    }
   ],
   "source": [
    "#nearest_neighbor_user함수를 통해 test에 저장되어있는 10명의 가까운 이웃 3명을 추출해낸다.\n",
    "#가까운 이웃의 거리는 유클리디안 함수를 이용해서 구해낸다.\n",
    "st=time.time()\n",
    "for i, row in test.iterrows():\n",
    "    print(row['userId'],'번 user의 가까운 이웃 Top3 : ',nearest_neighbor_user(row['userId'], 3, distance_euclidean))\n",
    "print(time.time()-st, 'sec')"
   ]
  },
  {
   "cell_type": "code",
   "execution_count": 8,
   "metadata": {
    "collapsed": true
   },
   "outputs": [],
   "source": [
    "#자신과 가까운 이웃 20000명을 토대로 별점을 예측하는 알고리즘\n",
    "#movieId를 파라미터로 줌으로써 원하는 영화의 번호만 예측정보를 얻어낸다.\n",
    "#가까운 이웃은 유클리디안 함수를 이용해서 찾아낸다.\n",
    "def predictRating(userid, movieId, nearest_neighbor=20000, simFunc=distance_euclidean) :\n",
    "    #자신과 가까운 이웃을 nearest_neighbor_user함수를 통해서 top20000명의 userId를 얻어온다.\n",
    "    neighbor = nearest_neighbor_user(userid,nearest_neighbor,simFunc)\n",
    "    neighbor_id = [id for id,sim in neighbor]\n",
    "    \n",
    "    #matrix에 저장되어있는 20000명의 정보를 토대로 별점을 예측한다.\n",
    "    neighbor_movie = UM_matrix_ds.loc[neighbor_id].dropna(1, how='all', thresh = 4 )\n",
    "    neighbor_dic = (dict(neighbor))\n",
    "    ret = [] \n",
    "    \n",
    "    for i, row in neighbor_movie.iteritems():\n",
    "        jsum, wsum = 0, 0\n",
    "        #원하는 영화 ID와 같은 경우에만 저장\n",
    "        if movieId == i:\n",
    "            for v in row.dropna().iteritems():\n",
    "                sim = neighbor_dic.get(v[0],0)\n",
    "                jsum += sim\n",
    "                wsum += (v[1]*sim)\n",
    "            ret.append([movieId, wsum/jsum])\n",
    "       \n",
    "    return ret"
   ]
  },
  {
   "cell_type": "code",
   "execution_count": 16,
   "metadata": {},
   "outputs": [
    {
     "name": "stdout",
     "output_type": "stream",
     "text": [
      "11.0 번 user : [( 500.0 , 4.5 )] => 11.0 [[500.0, 4.1758760044148406]]\n",
      "18.0 번 user : [( 4428.0 , 3.5 )] => 18.0 [[4428.0, 3.9803868788162764]]\n",
      "24.0 번 user : [( 4308.0 , 2.0 )] => 24.0 [[4308.0, 3.4893090013606081]]\n",
      "35.0 번 user : [( 60.0 , 4.0 )] => 35.0 [[60.0, 3.6600923292304088]]\n",
      "50.0 번 user : [( 924.0 , 5.0 )] => 50.0 [[924.0, 4.606651675690145]]\n",
      "54.0 번 user : [( 3194.0 , 4.0 )] => 54.0 [[3194.0, 3.7677843240598867]]\n",
      "58.0 번 user : [( 32587.0 , 4.5 )] => 58.0 [[32587.0, 4.2859490288266082]]\n",
      "70.0 번 user : [( 2890.0 , 3.0 )] => 70.0 [[2890.0, 3.3868589812252305]]\n",
      "83.0 번 user : [( 296.0 , 5.0 )] => 83.0 [[296.0, 4.6608382350728954]]\n",
      "91.0 번 user : [( 2863.0 , 4.5 )] => 91.0 [[2863.0, 4.0422632872003534]]\n",
      "6659.116248130798 sec\n"
     ]
    }
   ],
   "source": [
    "#test파일에 저장되어 있는 10명의 user와 movieId를 통해 영화 별점 예측 정보를 추출한다.\n",
    "st=time.time()\n",
    "for i, row in test.iterrows():\n",
    "    print(row['userId'],'번 user : [(',row['movieId'],\",\",row['rating'],\")] =>\"\\\n",
    "          ,row['userId'],predictRating(row['userId'],row['movieId']))\n",
    "print(time.time()-st, 'sec')"
   ]
  },
  {
   "cell_type": "code",
   "execution_count": 5,
   "metadata": {},
   "outputs": [],
   "source": [
    "#기존 10명의 user의 영화 별점과 예측 별점\n",
    "predict = pd.read_csv(\"predict.csv\")"
   ]
  },
  {
   "cell_type": "code",
   "execution_count": 8,
   "metadata": {},
   "outputs": [
    {
     "name": "stdout",
     "output_type": "stream",
     "text": [
      "   userId  movieId  rating  euclidean\n",
      "0      11      500     4.5   4.175876\n",
      "1      18     4428     3.5   3.980387\n",
      "2      24     4308     2.0   3.489309\n",
      "3      35       60     4.0   3.660092\n",
      "4      50      924     5.0   4.606652\n",
      "5      54     3194     4.0   3.767784\n",
      "6      58    32587     4.5   4.285949\n",
      "7      70     2890     3.0   3.386859\n",
      "8      83      296     5.0   4.660838\n",
      "9      91     2863     4.5   4.042263\n"
     ]
    }
   ],
   "source": [
    "print(predict)"
   ]
  },
  {
   "cell_type": "code",
   "execution_count": 7,
   "metadata": {},
   "outputs": [],
   "source": [
    "#정확도를 구하기위해서 Mean Absolute Error를 이용해서 정확도를 구한다.\n",
    "def MAE(data, true, pred):\n",
    "    return(np.mean(np.absolute(data[true] - data[pred])) )"
   ]
  },
  {
   "cell_type": "code",
   "execution_count": 9,
   "metadata": {},
   "outputs": [
    {
     "data": {
      "text/plain": [
       "0.46570999769069765"
      ]
     },
     "execution_count": 9,
     "metadata": {},
     "output_type": "execute_result"
    }
   ],
   "source": [
    "#예측한 별점까지 저장한 파일인 predict의 기존 rating과 euclidean을 통해 구한 예측 별점을 이용해서 평균 오차율을 구한다.\n",
    "MAE(predict, 'rating', 'euclidean')"
   ]
  }
 ],
 "metadata": {
  "kernelspec": {
   "display_name": "Python 3",
   "language": "python",
   "name": "python3"
  },
  "language_info": {
   "codemirror_mode": {
    "name": "ipython",
    "version": 3
   },
   "file_extension": ".py",
   "mimetype": "text/x-python",
   "name": "python",
   "nbconvert_exporter": "python",
   "pygments_lexer": "ipython3",
   "version": "3.6.1"
  }
 },
 "nbformat": 4,
 "nbformat_minor": 2
}
